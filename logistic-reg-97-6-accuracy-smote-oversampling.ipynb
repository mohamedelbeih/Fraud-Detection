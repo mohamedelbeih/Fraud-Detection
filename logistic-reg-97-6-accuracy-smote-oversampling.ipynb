{
 "cells": [
  {
   "cell_type": "code",
   "execution_count": 1,
   "metadata": {
    "execution": {
     "iopub.execute_input": "2021-02-09T22:45:58.338197Z",
     "iopub.status.busy": "2021-02-09T22:45:58.337588Z",
     "iopub.status.idle": "2021-02-09T22:45:59.443853Z",
     "shell.execute_reply": "2021-02-09T22:45:59.444371Z"
    },
    "papermill": {
     "duration": 1.123576,
     "end_time": "2021-02-09T22:45:59.444566",
     "exception": false,
     "start_time": "2021-02-09T22:45:58.320990",
     "status": "completed"
    },
    "tags": []
   },
   "outputs": [],
   "source": [
    "import numpy as np\n",
    "import pandas as pd\n",
    "import matplotlib.pyplot as plt\n",
    "import seaborn as sns\n",
    "sns.set()"
   ]
  },
  {
   "cell_type": "code",
   "execution_count": 2,
   "metadata": {
    "execution": {
     "iopub.execute_input": "2021-02-09T22:45:59.465792Z",
     "iopub.status.busy": "2021-02-09T22:45:59.465097Z",
     "iopub.status.idle": "2021-02-09T22:46:03.437054Z",
     "shell.execute_reply": "2021-02-09T22:46:03.437483Z"
    },
    "papermill": {
     "duration": 3.983747,
     "end_time": "2021-02-09T22:46:03.437651",
     "exception": false,
     "start_time": "2021-02-09T22:45:59.453904",
     "status": "completed"
    },
    "tags": []
   },
   "outputs": [
    {
     "data": {
      "text/html": [
       "<div>\n",
       "<style scoped>\n",
       "    .dataframe tbody tr th:only-of-type {\n",
       "        vertical-align: middle;\n",
       "    }\n",
       "\n",
       "    .dataframe tbody tr th {\n",
       "        vertical-align: top;\n",
       "    }\n",
       "\n",
       "    .dataframe thead th {\n",
       "        text-align: right;\n",
       "    }\n",
       "</style>\n",
       "<table border=\"1\" class=\"dataframe\">\n",
       "  <thead>\n",
       "    <tr style=\"text-align: right;\">\n",
       "      <th></th>\n",
       "      <th>Time</th>\n",
       "      <th>V1</th>\n",
       "      <th>V2</th>\n",
       "      <th>V3</th>\n",
       "      <th>V4</th>\n",
       "      <th>V5</th>\n",
       "      <th>V6</th>\n",
       "      <th>V7</th>\n",
       "      <th>V8</th>\n",
       "      <th>V9</th>\n",
       "      <th>...</th>\n",
       "      <th>V21</th>\n",
       "      <th>V22</th>\n",
       "      <th>V23</th>\n",
       "      <th>V24</th>\n",
       "      <th>V25</th>\n",
       "      <th>V26</th>\n",
       "      <th>V27</th>\n",
       "      <th>V28</th>\n",
       "      <th>Amount</th>\n",
       "      <th>Class</th>\n",
       "    </tr>\n",
       "  </thead>\n",
       "  <tbody>\n",
       "    <tr>\n",
       "      <th>0</th>\n",
       "      <td>0.0</td>\n",
       "      <td>-1.359807</td>\n",
       "      <td>-0.072781</td>\n",
       "      <td>2.536347</td>\n",
       "      <td>1.378155</td>\n",
       "      <td>-0.338321</td>\n",
       "      <td>0.462388</td>\n",
       "      <td>0.239599</td>\n",
       "      <td>0.098698</td>\n",
       "      <td>0.363787</td>\n",
       "      <td>...</td>\n",
       "      <td>-0.018307</td>\n",
       "      <td>0.277838</td>\n",
       "      <td>-0.110474</td>\n",
       "      <td>0.066928</td>\n",
       "      <td>0.128539</td>\n",
       "      <td>-0.189115</td>\n",
       "      <td>0.133558</td>\n",
       "      <td>-0.021053</td>\n",
       "      <td>149.62</td>\n",
       "      <td>0</td>\n",
       "    </tr>\n",
       "    <tr>\n",
       "      <th>1</th>\n",
       "      <td>0.0</td>\n",
       "      <td>1.191857</td>\n",
       "      <td>0.266151</td>\n",
       "      <td>0.166480</td>\n",
       "      <td>0.448154</td>\n",
       "      <td>0.060018</td>\n",
       "      <td>-0.082361</td>\n",
       "      <td>-0.078803</td>\n",
       "      <td>0.085102</td>\n",
       "      <td>-0.255425</td>\n",
       "      <td>...</td>\n",
       "      <td>-0.225775</td>\n",
       "      <td>-0.638672</td>\n",
       "      <td>0.101288</td>\n",
       "      <td>-0.339846</td>\n",
       "      <td>0.167170</td>\n",
       "      <td>0.125895</td>\n",
       "      <td>-0.008983</td>\n",
       "      <td>0.014724</td>\n",
       "      <td>2.69</td>\n",
       "      <td>0</td>\n",
       "    </tr>\n",
       "    <tr>\n",
       "      <th>2</th>\n",
       "      <td>1.0</td>\n",
       "      <td>-1.358354</td>\n",
       "      <td>-1.340163</td>\n",
       "      <td>1.773209</td>\n",
       "      <td>0.379780</td>\n",
       "      <td>-0.503198</td>\n",
       "      <td>1.800499</td>\n",
       "      <td>0.791461</td>\n",
       "      <td>0.247676</td>\n",
       "      <td>-1.514654</td>\n",
       "      <td>...</td>\n",
       "      <td>0.247998</td>\n",
       "      <td>0.771679</td>\n",
       "      <td>0.909412</td>\n",
       "      <td>-0.689281</td>\n",
       "      <td>-0.327642</td>\n",
       "      <td>-0.139097</td>\n",
       "      <td>-0.055353</td>\n",
       "      <td>-0.059752</td>\n",
       "      <td>378.66</td>\n",
       "      <td>0</td>\n",
       "    </tr>\n",
       "    <tr>\n",
       "      <th>3</th>\n",
       "      <td>1.0</td>\n",
       "      <td>-0.966272</td>\n",
       "      <td>-0.185226</td>\n",
       "      <td>1.792993</td>\n",
       "      <td>-0.863291</td>\n",
       "      <td>-0.010309</td>\n",
       "      <td>1.247203</td>\n",
       "      <td>0.237609</td>\n",
       "      <td>0.377436</td>\n",
       "      <td>-1.387024</td>\n",
       "      <td>...</td>\n",
       "      <td>-0.108300</td>\n",
       "      <td>0.005274</td>\n",
       "      <td>-0.190321</td>\n",
       "      <td>-1.175575</td>\n",
       "      <td>0.647376</td>\n",
       "      <td>-0.221929</td>\n",
       "      <td>0.062723</td>\n",
       "      <td>0.061458</td>\n",
       "      <td>123.50</td>\n",
       "      <td>0</td>\n",
       "    </tr>\n",
       "    <tr>\n",
       "      <th>4</th>\n",
       "      <td>2.0</td>\n",
       "      <td>-1.158233</td>\n",
       "      <td>0.877737</td>\n",
       "      <td>1.548718</td>\n",
       "      <td>0.403034</td>\n",
       "      <td>-0.407193</td>\n",
       "      <td>0.095921</td>\n",
       "      <td>0.592941</td>\n",
       "      <td>-0.270533</td>\n",
       "      <td>0.817739</td>\n",
       "      <td>...</td>\n",
       "      <td>-0.009431</td>\n",
       "      <td>0.798278</td>\n",
       "      <td>-0.137458</td>\n",
       "      <td>0.141267</td>\n",
       "      <td>-0.206010</td>\n",
       "      <td>0.502292</td>\n",
       "      <td>0.219422</td>\n",
       "      <td>0.215153</td>\n",
       "      <td>69.99</td>\n",
       "      <td>0</td>\n",
       "    </tr>\n",
       "  </tbody>\n",
       "</table>\n",
       "<p>5 rows × 31 columns</p>\n",
       "</div>"
      ],
      "text/plain": [
       "   Time        V1        V2        V3        V4        V5        V6        V7  \\\n",
       "0   0.0 -1.359807 -0.072781  2.536347  1.378155 -0.338321  0.462388  0.239599   \n",
       "1   0.0  1.191857  0.266151  0.166480  0.448154  0.060018 -0.082361 -0.078803   \n",
       "2   1.0 -1.358354 -1.340163  1.773209  0.379780 -0.503198  1.800499  0.791461   \n",
       "3   1.0 -0.966272 -0.185226  1.792993 -0.863291 -0.010309  1.247203  0.237609   \n",
       "4   2.0 -1.158233  0.877737  1.548718  0.403034 -0.407193  0.095921  0.592941   \n",
       "\n",
       "         V8        V9  ...       V21       V22       V23       V24       V25  \\\n",
       "0  0.098698  0.363787  ... -0.018307  0.277838 -0.110474  0.066928  0.128539   \n",
       "1  0.085102 -0.255425  ... -0.225775 -0.638672  0.101288 -0.339846  0.167170   \n",
       "2  0.247676 -1.514654  ...  0.247998  0.771679  0.909412 -0.689281 -0.327642   \n",
       "3  0.377436 -1.387024  ... -0.108300  0.005274 -0.190321 -1.175575  0.647376   \n",
       "4 -0.270533  0.817739  ... -0.009431  0.798278 -0.137458  0.141267 -0.206010   \n",
       "\n",
       "        V26       V27       V28  Amount  Class  \n",
       "0 -0.189115  0.133558 -0.021053  149.62      0  \n",
       "1  0.125895 -0.008983  0.014724    2.69      0  \n",
       "2 -0.139097 -0.055353 -0.059752  378.66      0  \n",
       "3 -0.221929  0.062723  0.061458  123.50      0  \n",
       "4  0.502292  0.219422  0.215153   69.99      0  \n",
       "\n",
       "[5 rows x 31 columns]"
      ]
     },
     "execution_count": 2,
     "metadata": {},
     "output_type": "execute_result"
    }
   ],
   "source": [
    "data = pd.read_csv('../input/creditcardfraud/creditcard.csv')\n",
    "data.head()"
   ]
  },
  {
   "cell_type": "code",
   "execution_count": 3,
   "metadata": {
    "execution": {
     "iopub.execute_input": "2021-02-09T22:46:03.459879Z",
     "iopub.status.busy": "2021-02-09T22:46:03.459312Z",
     "iopub.status.idle": "2021-02-09T22:46:03.661171Z",
     "shell.execute_reply": "2021-02-09T22:46:03.661679Z"
    },
    "papermill": {
     "duration": 0.214258,
     "end_time": "2021-02-09T22:46:03.661825",
     "exception": false,
     "start_time": "2021-02-09T22:46:03.447567",
     "status": "completed"
    },
    "tags": []
   },
   "outputs": [
    {
     "data": {
      "text/plain": [
       "0    284315\n",
       "1       492\n",
       "Name: Class, dtype: int64"
      ]
     },
     "execution_count": 3,
     "metadata": {},
     "output_type": "execute_result"
    },
    {
     "data": {
      "image/png": "[encoded data removed]",
      "text/plain": [
       "<Figure size 432x288 with 1 Axes>"
      ]
     },
     "metadata": {},
     "output_type": "display_data"
    }
   ],
   "source": [
    "pd.value_counts(data['Class']).plot.bar()\n",
    "plt.title('Fraud class histogram')\n",
    "plt.xlabel('Class')\n",
    "plt.ylabel('Frequency')\n",
    "data['Class'].value_counts()"
   ]
  },
  {
   "cell_type": "code",
   "execution_count": 4,
   "metadata": {
    "execution": {
     "iopub.execute_input": "2021-02-09T22:46:03.686267Z",
     "iopub.status.busy": "2021-02-09T22:46:03.685728Z",
     "iopub.status.idle": "2021-02-09T22:46:03.699837Z",
     "shell.execute_reply": "2021-02-09T22:46:03.699014Z"
    },
    "papermill": {
     "duration": 0.027545,
     "end_time": "2021-02-09T22:46:03.700004",
     "exception": false,
     "start_time": "2021-02-09T22:46:03.672459",
     "status": "completed"
    },
    "tags": []
   },
   "outputs": [
    {
     "name": "stdout",
     "output_type": "stream",
     "text": [
      "No Frauds 99.83 % of the dataset\n",
      "Frauds 0.17 % of the dataset\n"
     ]
    }
   ],
   "source": [
    "print('No Frauds', round(data['Class'].value_counts()[0]/len(data) * 100,2), '% of the dataset')\n",
    "print('Frauds', round(data['Class'].value_counts()[1]/len(data) * 100,2), '% of the dataset')"
   ]
  },
  {
   "cell_type": "code",
   "execution_count": 5,
   "metadata": {
    "execution": {
     "iopub.execute_input": "2021-02-09T22:46:03.730151Z",
     "iopub.status.busy": "2021-02-09T22:46:03.729481Z",
     "iopub.status.idle": "2021-02-09T22:46:03.927457Z",
     "shell.execute_reply": "2021-02-09T22:46:03.926829Z"
    },
    "papermill": {
     "duration": 0.216181,
     "end_time": "2021-02-09T22:46:03.927590",
     "exception": false,
     "start_time": "2021-02-09T22:46:03.711409",
     "status": "completed"
    },
    "tags": []
   },
   "outputs": [],
   "source": [
    "from sklearn.preprocessing import StandardScaler\n",
    "\n",
    "std_scaler = StandardScaler()\n",
    "\n",
    "data['scaled_amount'] = std_scaler.fit_transform(data['Amount'].values.reshape(-1,1))\n",
    "data['scaled_time'] = std_scaler.fit_transform(data['Time'].values.reshape(-1,1))\n",
    "\n",
    "data.drop(['Time','Amount'], axis=1, inplace=True)\n",
    "\n",
    "scaled_amount = data['scaled_amount']\n",
    "scaled_time = data['scaled_time']\n",
    "\n",
    "data.drop(['scaled_amount', 'scaled_time'], axis=1, inplace=True)\n",
    "data.insert(0, 'scaled_amount', scaled_amount)\n",
    "data.insert(1, 'scaled_time', scaled_time)"
   ]
  },
  {
   "cell_type": "code",
   "execution_count": 6,
   "metadata": {
    "execution": {
     "iopub.execute_input": "2021-02-09T22:46:03.984684Z",
     "iopub.status.busy": "2021-02-09T22:46:03.984046Z",
     "iopub.status.idle": "2021-02-09T22:46:04.047408Z",
     "shell.execute_reply": "2021-02-09T22:46:04.046438Z"
    },
    "papermill": {
     "duration": 0.108864,
     "end_time": "2021-02-09T22:46:04.047529",
     "exception": false,
     "start_time": "2021-02-09T22:46:03.938665",
     "status": "completed"
    },
    "tags": []
   },
   "outputs": [],
   "source": [
    "dataset = data\n",
    "X = dataset.iloc[:, :-1].values\n",
    "y = dataset.iloc[:, -1].values"
   ]
  },
  {
   "cell_type": "code",
   "execution_count": 7,
   "metadata": {
    "execution": {
     "iopub.execute_input": "2021-02-09T22:46:04.074597Z",
     "iopub.status.busy": "2021-02-09T22:46:04.073963Z",
     "iopub.status.idle": "2021-02-09T22:46:04.252644Z",
     "shell.execute_reply": "2021-02-09T22:46:04.252132Z"
    },
    "papermill": {
     "duration": 0.194116,
     "end_time": "2021-02-09T22:46:04.252762",
     "exception": false,
     "start_time": "2021-02-09T22:46:04.058646",
     "status": "completed"
    },
    "tags": []
   },
   "outputs": [],
   "source": [
    "from sklearn.model_selection import train_test_split\n",
    "X_train, X_test, y_train, y_test = train_test_split(X, y, test_size = 0.25, random_state = 0)\n"
   ]
  },
  {
   "cell_type": "code",
   "execution_count": 8,
   "metadata": {
    "execution": {
     "iopub.execute_input": "2021-02-09T22:46:04.280817Z",
     "iopub.status.busy": "2021-02-09T22:46:04.280157Z",
     "iopub.status.idle": "2021-02-09T22:46:04.634933Z",
     "shell.execute_reply": "2021-02-09T22:46:04.634241Z"
    },
    "papermill": {
     "duration": 0.371146,
     "end_time": "2021-02-09T22:46:04.635046",
     "exception": false,
     "start_time": "2021-02-09T22:46:04.263900",
     "status": "completed"
    },
    "tags": []
   },
   "outputs": [],
   "source": [
    "from sklearn.linear_model import LogisticRegression\n",
    "from imblearn.pipeline import Pipeline, make_pipeline\n",
    "from imblearn.over_sampling import SMOTE\n",
    "from sklearn.model_selection import cross_val_score\n",
    "from sklearn.model_selection import GridSearchCV\n"
   ]
  },
  {
   "cell_type": "code",
   "execution_count": 9,
   "metadata": {
    "execution": {
     "iopub.execute_input": "2021-02-09T22:46:04.662769Z",
     "iopub.status.busy": "2021-02-09T22:46:04.662156Z",
     "iopub.status.idle": "2021-02-09T22:46:04.665447Z",
     "shell.execute_reply": "2021-02-09T22:46:04.664939Z"
    },
    "papermill": {
     "duration": 0.018988,
     "end_time": "2021-02-09T22:46:04.665555",
     "exception": false,
     "start_time": "2021-02-09T22:46:04.646567",
     "status": "completed"
    },
    "tags": []
   },
   "outputs": [],
   "source": [
    "params = {'penalty': ['none', 'l2']}"
   ]
  },
  {
   "cell_type": "code",
   "execution_count": 10,
   "metadata": {
    "execution": {
     "iopub.execute_input": "2021-02-09T22:46:04.692909Z",
     "iopub.status.busy": "2021-02-09T22:46:04.692217Z",
     "iopub.status.idle": "2021-02-09T22:46:04.695432Z",
     "shell.execute_reply": "2021-02-09T22:46:04.694834Z"
    },
    "papermill": {
     "duration": 0.018856,
     "end_time": "2021-02-09T22:46:04.695543",
     "exception": false,
     "start_time": "2021-02-09T22:46:04.676687",
     "status": "completed"
    },
    "tags": []
   },
   "outputs": [],
   "source": [
    "reg = LogisticRegression(random_state = 42)"
   ]
  },
  {
   "cell_type": "code",
   "execution_count": 11,
   "metadata": {
    "execution": {
     "iopub.execute_input": "2021-02-09T22:46:04.724157Z",
     "iopub.status.busy": "2021-02-09T22:46:04.723588Z",
     "iopub.status.idle": "2021-02-09T22:46:41.318159Z",
     "shell.execute_reply": "2021-02-09T22:46:41.317647Z"
    },
    "papermill": {
     "duration": 36.611502,
     "end_time": "2021-02-09T22:46:41.318265",
     "exception": false,
     "start_time": "2021-02-09T22:46:04.706763",
     "status": "completed"
    },
    "tags": []
   },
   "outputs": [
    {
     "name": "stdout",
     "output_type": "stream",
     "text": [
      "Accuracies of Model with Cross Validation are  [0.97537568 0.97448621 0.97663967 0.97457984 0.97392444 0.9781367\n",
      " 0.97593633 0.97598315 0.97368914 0.97771536]\n",
      "Accuracy Average: 97.56 %\n"
     ]
    },
    {
     "name": "stderr",
     "output_type": "stream",
     "text": [
      "/opt/conda/lib/python3.7/site-packages/sklearn/linear_model/_logistic.py:764: ConvergenceWarning: lbfgs failed to converge (status=1):\n",
      "STOP: TOTAL NO. of ITERATIONS REACHED LIMIT.\n",
      "\n",
      "Increase the number of iterations (max_iter) or scale the data as shown in:\n",
      "    https://scikit-learn.org/stable/modules/preprocessing.html\n",
      "Please also refer to the documentation for alternative solver options:\n",
      "    https://scikit-learn.org/stable/modules/linear_model.html#logistic-regression\n",
      "  extra_warning_msg=_LOGISTIC_SOLVER_CONVERGENCE_MSG)\n"
     ]
    }
   ],
   "source": [
    "imba_pipeline = make_pipeline(SMOTE(random_state=42),reg)\n",
    "accuracies = cross_val_score(imba_pipeline, X_train, y_train,scoring='accuracy',cv = 10 )\n",
    "print(\"Accuracies of Model with Cross Validation are \",accuracies)\n",
    "print(\"Accuracy Average: {:.2f} %\".format(accuracies.mean()*100))\n"
   ]
  },
  {
   "cell_type": "code",
   "execution_count": 12,
   "metadata": {
    "execution": {
     "iopub.execute_input": "2021-02-09T22:46:41.345346Z",
     "iopub.status.busy": "2021-02-09T22:46:41.344447Z",
     "iopub.status.idle": "2021-02-09T22:47:56.488736Z",
     "shell.execute_reply": "2021-02-09T22:47:56.488057Z"
    },
    "papermill": {
     "duration": 75.159017,
     "end_time": "2021-02-09T22:47:56.488889",
     "exception": false,
     "start_time": "2021-02-09T22:46:41.329872",
     "status": "completed"
    },
    "tags": []
   },
   "outputs": [
    {
     "name": "stderr",
     "output_type": "stream",
     "text": [
      "/opt/conda/lib/python3.7/site-packages/sklearn/linear_model/_logistic.py:764: ConvergenceWarning: lbfgs failed to converge (status=1):\n",
      "STOP: TOTAL NO. of ITERATIONS REACHED LIMIT.\n",
      "\n",
      "Increase the number of iterations (max_iter) or scale the data as shown in:\n",
      "    https://scikit-learn.org/stable/modules/preprocessing.html\n",
      "Please also refer to the documentation for alternative solver options:\n",
      "    https://scikit-learn.org/stable/modules/linear_model.html#logistic-regression\n",
      "  extra_warning_msg=_LOGISTIC_SOLVER_CONVERGENCE_MSG)\n",
      "/opt/conda/lib/python3.7/site-packages/sklearn/linear_model/_logistic.py:764: ConvergenceWarning: lbfgs failed to converge (status=1):\n",
      "STOP: TOTAL NO. of ITERATIONS REACHED LIMIT.\n",
      "\n",
      "Increase the number of iterations (max_iter) or scale the data as shown in:\n",
      "    https://scikit-learn.org/stable/modules/preprocessing.html\n",
      "Please also refer to the documentation for alternative solver options:\n",
      "    https://scikit-learn.org/stable/modules/linear_model.html#logistic-regression\n",
      "  extra_warning_msg=_LOGISTIC_SOLVER_CONVERGENCE_MSG)\n"
     ]
    }
   ],
   "source": [
    "new_params = {'logisticregression__' + key: params[key] for key in params}\n",
    "grid_imba = GridSearchCV(imba_pipeline, param_grid=new_params, cv=10, scoring='accuracy',\n",
    "                        return_train_score=True)\n",
    "grid_imba.fit(X_train, y_train);"
   ]
  },
  {
   "cell_type": "code",
   "execution_count": 13,
   "metadata": {
    "execution": {
     "iopub.execute_input": "2021-02-09T22:47:56.525928Z",
     "iopub.status.busy": "2021-02-09T22:47:56.525094Z",
     "iopub.status.idle": "2021-02-09T22:47:56.529477Z",
     "shell.execute_reply": "2021-02-09T22:47:56.528896Z"
    },
    "papermill": {
     "duration": 0.021665,
     "end_time": "2021-02-09T22:47:56.529583",
     "exception": false,
     "start_time": "2021-02-09T22:47:56.507918",
     "status": "completed"
    },
    "tags": []
   },
   "outputs": [
    {
     "data": {
      "text/plain": [
       "{'logisticregression__penalty': 'none'}"
      ]
     },
     "execution_count": 13,
     "metadata": {},
     "output_type": "execute_result"
    }
   ],
   "source": [
    "grid_imba.best_params_"
   ]
  },
  {
   "cell_type": "code",
   "execution_count": 14,
   "metadata": {
    "execution": {
     "iopub.execute_input": "2021-02-09T22:47:56.561709Z",
     "iopub.status.busy": "2021-02-09T22:47:56.560792Z",
     "iopub.status.idle": "2021-02-09T22:47:56.564357Z",
     "shell.execute_reply": "2021-02-09T22:47:56.564856Z"
    },
    "papermill": {
     "duration": 0.022446,
     "end_time": "2021-02-09T22:47:56.564987",
     "exception": false,
     "start_time": "2021-02-09T22:47:56.542541",
     "status": "completed"
    },
    "tags": []
   },
   "outputs": [
    {
     "data": {
      "text/plain": [
       "0.9756560156710389"
      ]
     },
     "execution_count": 14,
     "metadata": {},
     "output_type": "execute_result"
    }
   ],
   "source": [
    "grid_imba.best_score_"
   ]
  },
  {
   "cell_type": "code",
   "execution_count": 15,
   "metadata": {
    "execution": {
     "iopub.execute_input": "2021-02-09T22:47:56.595394Z",
     "iopub.status.busy": "2021-02-09T22:47:56.594465Z",
     "iopub.status.idle": "2021-02-09T22:47:56.608856Z",
     "shell.execute_reply": "2021-02-09T22:47:56.609358Z"
    },
    "papermill": {
     "duration": 0.030961,
     "end_time": "2021-02-09T22:47:56.609504",
     "exception": false,
     "start_time": "2021-02-09T22:47:56.578543",
     "status": "completed"
    },
    "tags": []
   },
   "outputs": [
    {
     "data": {
      "text/plain": [
       "0.9760399988764361"
      ]
     },
     "execution_count": 15,
     "metadata": {},
     "output_type": "execute_result"
    }
   ],
   "source": [
    "from sklearn.metrics import accuracy_score , recall_score \n",
    "y_test_predict = grid_imba.best_estimator_.named_steps['logisticregression'].predict(X_test)\n",
    "accuracy_score(y_test, y_test_predict)"
   ]
  },
  {
   "cell_type": "code",
   "execution_count": 16,
   "metadata": {
    "execution": {
     "iopub.execute_input": "2021-02-09T22:47:56.641077Z",
     "iopub.status.busy": "2021-02-09T22:47:56.640151Z",
     "iopub.status.idle": "2021-02-09T22:47:57.068505Z",
     "shell.execute_reply": "2021-02-09T22:47:57.068963Z"
    },
    "papermill": {
     "duration": 0.445372,
     "end_time": "2021-02-09T22:47:57.069095",
     "exception": false,
     "start_time": "2021-02-09T22:47:56.623723",
     "status": "completed"
    },
    "tags": []
   },
   "outputs": [
    {
     "name": "stdout",
     "output_type": "stream",
     "text": [
      "[[69385  1697]\n",
      " [    9   111]]\n",
      "              precision    recall  f1-score   support\n",
      "\n",
      "           0       1.00      0.98      0.99     71082\n",
      "           1       0.06      0.93      0.12       120\n",
      "\n",
      "    accuracy                           0.98     71202\n",
      "   macro avg       0.53      0.95      0.55     71202\n",
      "weighted avg       1.00      0.98      0.99     71202\n",
      "\n",
      "accuracy : 0.9760399988764361\n"
     ]
    },
    {
     "data": {
      "image/png": "[encoded data removed]",
      "text/plain": [
       "<Figure size 432x288 with 2 Axes>"
      ]
     },
     "metadata": {},
     "output_type": "display_data"
    }
   ],
   "source": [
    "from sklearn.metrics import confusion_matrix,classification_report\n",
    "cm = confusion_matrix(y_test, y_test_predict)\n",
    "print(cm)\n",
    "print(classification_report(y_test, y_test_predict))\n",
    "print('accuracy :',accuracy_score(y_test, y_test_predict))\n",
    "\n",
    "y_true = [\"non fraud\",\" fraud\"]\n",
    "y_pred = [\"non fraud\",\" fraud\"]\n",
    "\n",
    "df_cm = pd.DataFrame(cm, columns=(y_pred), index = (y_true))\n",
    "df_cm.index.name = 'Actual'\n",
    "df_cm.columns.name = 'Predicted'\n",
    "\n",
    "sns.heatmap(df_cm,linewidths=3, cmap=\"Set3\", annot=True)\n",
    "plt.show()\n",
    "\n"
   ]
  },
  {
   "cell_type": "code",
   "execution_count": null,
   "metadata": {
    "papermill": {
     "duration": 0.014706,
     "end_time": "2021-02-09T22:47:57.100263",
     "exception": false,
     "start_time": "2021-02-09T22:47:57.085557",
     "status": "completed"
    },
    "tags": []
   },
   "outputs": [],
   "source": []
  }
 ],
 "metadata": {
  "kernelspec": {
   "display_name": "Python 3",
   "language": "python",
   "name": "python3"
  },
  "language_info": {
   "codemirror_mode": {
    "name": "ipython",
    "version": 3
   },
   "file_extension": ".py",
   "mimetype": "text/x-python",
   "name": "python",
   "nbconvert_exporter": "python",
   "pygments_lexer": "ipython3",
   "version": "3.7.6"
  },
  "papermill": {
   "duration": 123.651591,
   "end_time": "2021-02-09T22:47:57.222563",
   "environment_variables": {},
   "exception": null,
   "input_path": "__notebook__.ipynb",
   "output_path": "__notebook__.ipynb",
   "parameters": {},
   "start_time": "2021-02-09T22:45:53.570972",
   "version": "2.1.0"
  }
 },
 "nbformat": 4,
 "nbformat_minor": 4
}
